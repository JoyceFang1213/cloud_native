{
 "cells": [
  {
   "cell_type": "code",
   "execution_count": 3,
   "id": "726931f0",
   "metadata": {},
   "outputs": [],
   "source": [
    "import requests\n",
    "from bs4 import BeautifulSoup"
   ]
  },
  {
   "cell_type": "code",
   "execution_count": 28,
   "id": "d71d6a3e",
   "metadata": {},
   "outputs": [],
   "source": [
    "url = \"https://water.taiwanstat.com/\"\n",
    "get_web = requests.get(url)\n",
    "content = BeautifulSoup(get_web.content, \"html.parser\")"
   ]
  },
  {
   "cell_type": "code",
   "execution_count": 29,
   "id": "ba2dffbb",
   "metadata": {},
   "outputs": [
    {
     "name": "stdout",
     "output_type": "stream",
     "text": [
      "新山水庫(基隆) 更新時間：0000-00-00 (0時) 7001.1萬立方公尺 萬立方公尺\n",
      "翡翠水庫(台北、新北) 更新時間：0000-00-00 (0時) 26722.51萬立方公尺 萬立方公尺\n",
      "石門水庫(新北、桃園、新竹) 更新時間：0000-00-00 (0時) 4025.63萬立方公尺 萬立方公尺\n",
      "永和山水庫(新竹、苗栗) 更新時間：0000-00-00 (0時) 685.598萬立方公尺 萬立方公尺\n",
      "寶山水庫(新竹) 更新時間：0000-00-00 (0時) 7001.1萬立方公尺 萬立方公尺\n",
      "寶山第二水庫(新竹) 更新時間：0000-00-00 (0時) 7001.1萬立方公尺 萬立方公尺\n",
      "明德水庫(苗栗) 更新時間：0000-00-00 (0時) 262.0316萬立方公尺 萬立方公尺\n",
      "鯉魚潭水庫(苗栗、台中) 更新時間：0000-00-00 (0時) 9857.34萬立方公尺 萬立方公尺\n",
      "德基水庫(台中) 更新時間：0000-00-00 (0時) 762.27萬立方公尺 萬立方公尺\n",
      "石岡壩(台中) 更新時間：0000-00-00 (0時) 11486萬立方公尺 萬立方公尺\n",
      "日月潭水庫(南投) 更新時間：0000-00-00 (0時) 5741萬立方公尺 萬立方公尺\n",
      "霧社水庫(南投) 更新時間：0000-00-00 (0時) 3269.4萬立方公尺 萬立方公尺\n",
      "湖山水庫(雲林、彰化、嘉義) 更新時間：0000-00-00 (0時) 820.884613萬立方公尺 萬立方公尺\n",
      "仁義潭水庫(嘉義) 更新時間：0000-00-00 (0時) 820.884613萬立方公尺 萬立方公尺\n",
      "蘭潭水庫(嘉義) 更新時間：0000-00-00 (0時) 1086.97萬立方公尺 萬立方公尺\n",
      "白河水庫(台南) 更新時間：0000-00-00 (0時) 1086.97萬立方公尺 萬立方公尺\n",
      "曾文水庫(嘉義、台南) 更新時間：0000-00-00 (0時) 1086.97萬立方公尺 萬立方公尺\n",
      "烏山頭水庫(台南) 更新時間：0000-00-00 (0時) 1086.97萬立方公尺 萬立方公尺\n",
      "南化水庫(台南、高雄) 更新時間：0000-00-00 (0時) 1086.97萬立方公尺 萬立方公尺\n",
      "阿公店水庫(高雄) 更新時間：0000-00-00 (0時) 1086.97萬立方公尺 萬立方公尺\n",
      "牡丹水庫(屏東) 更新時間：0000-00-00 (0時) 1086.97萬立方公尺 萬立方公尺\n"
     ]
    }
   ],
   "source": [
    "all_reservoirs = content.find_all(\"div\", {\"class\": \"reservoir\"})\n",
    "\n",
    "for reservoir in all_reservoirs:\n",
    "    name = reservoir.find(\"div\", {\"class\": \"name\"}).text\n",
    "    update_time = reservoir.find(\"div\", {\"class\": \"updateAt\"}).text\n",
    "    volume = reservoir.find(\"div\", {\"class\": \"volumn\"}).text\n",
    "    change = reservoir.find(\"div\", {\"class\": [\"state\"]}).text\n",
    "    \n",
    "    print(name, update_time, volume, change)"
   ]
  },
  {
   "cell_type": "code",
   "execution_count": null,
   "id": "cfe6c526",
   "metadata": {},
   "outputs": [],
   "source": []
  }
 ],
 "metadata": {
  "kernelspec": {
   "display_name": "Python 3 (ipykernel)",
   "language": "python",
   "name": "python3"
  },
  "language_info": {
   "codemirror_mode": {
    "name": "ipython",
    "version": 3
   },
   "file_extension": ".py",
   "mimetype": "text/x-python",
   "name": "python",
   "nbconvert_exporter": "python",
   "pygments_lexer": "ipython3",
   "version": "3.9.13"
  }
 },
 "nbformat": 4,
 "nbformat_minor": 5
}
